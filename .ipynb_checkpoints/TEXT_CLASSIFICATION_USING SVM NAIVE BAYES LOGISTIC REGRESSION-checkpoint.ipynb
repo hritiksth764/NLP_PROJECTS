{
 "cells": [
  {
   "cell_type": "markdown",
   "metadata": {},
   "source": [
    "# NOTE\n",
    "No single approach is known to work universally on all kinds of data and all the classification problems.\n",
    "Dataset used: Figure eight - Economic news article tone and relevance\n"
   ]
  },
  {
   "cell_type": "markdown",
   "metadata": {},
   "source": [
    "# STEP- Loading the dataset and using the necessary imports"
   ]
  },
  {
   "cell_type": "code",
   "execution_count": 1,
   "metadata": {},
   "outputs": [
    {
     "name": "stderr",
     "output_type": "stream",
     "text": [
      "/Users/hritiksethi/opt/anaconda3/envs/virtual_environment_name/lib/python3.8/site-packages/sklearn/utils/deprecation.py:143: FutureWarning: The sklearn.feature_extraction.stop_words module is  deprecated in version 0.22 and will be removed in version 0.24. The corresponding classes / functions should instead be imported from sklearn.feature_extraction.text. Anything that cannot be imported from sklearn.feature_extraction.text is now part of the private API.\n",
      "  warnings.warn(message, FutureWarning)\n"
     ]
    }
   ],
   "source": [
    "# Naive Bayes Classifier is a probabilistic classifier that uses bayes theorem to classify texts based on the eveidence \n",
    "#seen in training data.\n",
    "\n",
    "import numpy as np\n",
    "import pandas as pd #to work with csv files\n",
    "\n",
    "#matplotlib imports are used to plot confusion matrices for the classifiers\n",
    "import matplotlib as mpl \n",
    "import matplotlib.cm as cm \n",
    "import matplotlib.pyplot as plt \n",
    "\n",
    "#to use feature extraction methods scikit library is to be used\n",
    "from sklearn.feature_extraction.text import CountVectorizer\n",
    "from sklearn.feature_extraction import stop_words\n",
    "\n",
    "#to preprocess the text\n",
    "import string\n",
    "import re  #this is for using regular expressions\n",
    "\n",
    "#import classifiers from sklearn\n",
    "from sklearn.naive_bayes import MultinomialNB\n",
    "from sklearn.linear_model import LogisticRegression\n",
    "from sklearn.svm import LinearSVC\n",
    "\n",
    "#import different metrics to evaluate the classifiers\n",
    "from sklearn.metrics import accuracy_score\n",
    "#from sklearn.model_selection import train_test_split\n",
    "from sklearn.metrics import confusion_matrix \n",
    "from sklearn import metrics\n",
    "\n",
    "#import time function from time module to track the training duration\n",
    "from time import time"
   ]
  },
  {
   "cell_type": "code",
   "execution_count": 2,
   "metadata": {},
   "outputs": [
    {
     "name": "stdout",
     "output_type": "stream",
     "text": [
      "--2020-12-30 12:42:05--  https://raw.githubusercontent.com/practical-nlp/practical-nlp/master/Ch4/Data/Full-Economic-News-DFE-839861.csv\n",
      "Resolving raw.githubusercontent.com... 151.101.36.133\n",
      "Connecting to raw.githubusercontent.com|151.101.36.133|:443... connected.\n",
      "HTTP request sent, awaiting response... 200 OK\n",
      "Length: 12383529 (12M) [text/plain]\n",
      "Saving to: 'DATAPATH/Full-Economic-News-DFE-839861.csv'\n",
      "\n",
      "Full-Economic-News- 100%[===================>]  11.81M  8.07MB/s    in 1.5s    \n",
      "\n",
      "2020-12-30 12:42:07 (8.07 MB/s) - 'DATAPATH/Full-Economic-News-DFE-839861.csv' saved [12383529/12383529]\n",
      "\n"
     ]
    }
   ],
   "source": [
    "!wget -P DATAPATH https://raw.githubusercontent.com/practical-nlp/practical-nlp/master/Ch4/Data/Full-Economic-News-DFE-839861.csv"
   ]
  },
  {
   "cell_type": "code",
   "execution_count": 3,
   "metadata": {},
   "outputs": [
    {
     "name": "stdout",
     "output_type": "stream",
     "text": [
      "total 24552\r\n",
      "drwxr-xr-x@ 3 hritiksethi  staff    96B Dec 30 12:42 \u001b[34m.\u001b[m\u001b[m\r\n",
      "drwxr-xr-x@ 5 hritiksethi  staff   160B Dec 30 12:42 \u001b[34m..\u001b[m\u001b[m\r\n",
      "-rw-r--r--  1 hritiksethi  staff    12M Dec 30 12:42 Full-Economic-News-DFE-839861.csv\r\n"
     ]
    }
   ],
   "source": [
    "!ls -lah DATAPATH"
   ]
  },
  {
   "cell_type": "code",
   "execution_count": 4,
   "metadata": {},
   "outputs": [
    {
     "data": {
      "text/plain": [
       "(8000, 15)"
      ]
     },
     "metadata": {},
     "output_type": "display_data"
    },
    {
     "data": {
      "text/plain": [
       "no          0.821375\n",
       "yes         0.177500\n",
       "not sure    0.001125\n",
       "Name: relevance, dtype: float64"
      ]
     },
     "execution_count": 4,
     "metadata": {},
     "output_type": "execute_result"
    }
   ],
   "source": [
    "our_data = pd.read_csv(\"DATAPATH/Full-Economic-News-DFE-839861.csv\" , encoding = \"ISO-8859-1\" )\n",
    "\n",
    "display(our_data.shape) #Number of rows (instances) and columns in the dataset\n",
    "our_data[\"relevance\"].value_counts()/our_data.shape[0] #Class distribution in the dataset"
   ]
  },
  {
   "cell_type": "code",
   "execution_count": 10,
   "metadata": {},
   "outputs": [
    {
     "name": "stdout",
     "output_type": "stream",
     "text": [
      "       _unit_id  _golden _unit_state  _trusted_judgments _last_judgment_at  \\\n",
      "0     842613455    False   finalized                   3     12/5/15 17:48   \n",
      "1     842613456    False   finalized                   3     12/5/15 16:54   \n",
      "2     842613457    False   finalized                   3      12/5/15 1:59   \n",
      "3     842613458    False   finalized                   3      12/5/15 2:19   \n",
      "4     842613459    False   finalized                   3     12/5/15 17:48   \n",
      "...         ...      ...         ...                 ...               ...   \n",
      "7995  830985632    False   finalized                   3    11/17/15 18:16   \n",
      "7996  830985633    False   finalized                   3     11/18/15 8:10   \n",
      "7997  830985634    False   finalized                   3    11/18/15 12:12   \n",
      "7998  830985635    False   finalized                   3     11/18/15 7:17   \n",
      "7999  830985636    False   finalized                   3    11/18/15 11:05   \n",
      "\n",
      "      positivity  positivity:confidence relevance  relevance:confidence  \\\n",
      "0            3.0                 0.6400       yes                0.6400   \n",
      "1            NaN                    NaN        no                1.0000   \n",
      "2            NaN                    NaN        no                1.0000   \n",
      "3            NaN                 0.0000        no                0.6750   \n",
      "4            3.0                 0.3257       yes                0.6400   \n",
      "...          ...                    ...       ...                   ...   \n",
      "7995         7.0                 0.3511       yes                0.6641   \n",
      "7996         NaN                    NaN        no                1.0000   \n",
      "7997         NaN                    NaN        no                1.0000   \n",
      "7998         NaN                 0.0000        no                0.6855   \n",
      "7999         NaN                    NaN        no                1.0000   \n",
      "\n",
      "           articleid      date  \\\n",
      "0      wsj_398217788   8/14/91   \n",
      "1      wsj_399019502   8/21/07   \n",
      "2      wsj_398284048  11/14/91   \n",
      "3      wsj_397959018   6/16/86   \n",
      "4      wsj_398838054   10/4/02   \n",
      "...              ...       ...   \n",
      "7995  wapo_152454634   2/11/52   \n",
      "7996  wapo_410349039  12/13/09   \n",
      "7997  wapo_410346237  12/18/09   \n",
      "7998  wapo_307808606   1/10/95   \n",
      "7999  wapo_143151328   4/18/67   \n",
      "\n",
      "                                               headline  positivity_gold  \\\n",
      "0                 Yields on CDs Fell in the Latest Week              NaN   \n",
      "1     The Morning Brief: White House Seeks to Limit ...              NaN   \n",
      "2     Banking Bill Negotiators Set Compromise --- Pl...              NaN   \n",
      "3     Manager's Journal: Sniffing Out Drug Abusers I...              NaN   \n",
      "4     Currency Trading: Dollar Remains in Tight Rang...              NaN   \n",
      "...                                                 ...              ...   \n",
      "7995  Sawyer Sees Strong Economy For 2 Years, Truce ...              NaN   \n",
      "7996                   Oil's losses are airlines' gains              NaN   \n",
      "7997  Full Senate to vote on Bernanke; PANEL ADVANCE...              NaN   \n",
      "7998                          Reinventing Opportunities              NaN   \n",
      "7999  Stocks Rise On News of Auto Output: Dow Climbs...              NaN   \n",
      "\n",
      "      relevance_gold                                               text  \n",
      "0                NaN  NEW YORK -- Yields on most certificates of dep...  \n",
      "1                NaN  The Wall Street Journal Online</br></br>The Mo...  \n",
      "2                NaN  WASHINGTON -- In an effort to achieve banking ...  \n",
      "3                NaN  The statistics on the enormous costs of employ...  \n",
      "4                NaN  NEW YORK -- Indecision marked the dollar's ton...  \n",
      "...              ...                                                ...  \n",
      "7995             NaN  Secretary of Commerce Charles W. Sawyer said y...  \n",
      "7996             NaN  U.S. stocks inched up last week, overcoming co...  \n",
      "7997             NaN  Ben S. Bernanke cleared a key hurdle Thursday ...  \n",
      "7998             NaN  The White House's push to contract out many fe...  \n",
      "7999             NaN  NEW YORK. April 17-Automobile stocks put on th...  \n",
      "\n",
      "[8000 rows x 15 columns]\n"
     ]
    }
   ],
   "source": [
    "print(our_data)"
   ]
  },
  {
   "cell_type": "markdown",
   "metadata": {},
   "source": [
    "# There is an imbalance in the data with not relevant being 82% in the dataset. That is, most of the articles are not relevant to US Economy, which makes sense in a real-world scenario, as news articles discuss various topics. We should keep this class imbalance mind when interpreting the classifier performance later. Let us first convert the class labels into binary outcome variables for convenience. 1 for Yes (relevant), and 0 for No (not relevant), and ignore \"Not sure\"."
   ]
  },
  {
   "cell_type": "code",
   "execution_count": 11,
   "metadata": {},
   "outputs": [
    {
     "name": "stderr",
     "output_type": "stream",
     "text": [
      "<ipython-input-11-471e8fa30727>:4: SettingWithCopyWarning: \n",
      "A value is trying to be set on a copy of a slice from a DataFrame.\n",
      "Try using .loc[row_indexer,col_indexer] = value instead\n",
      "\n",
      "See the caveats in the documentation: https://pandas.pydata.org/pandas-docs/stable/user_guide/indexing.html#returning-a-view-versus-a-copy\n",
      "  our_data['relevance'] = our_data.relevance.map({'yes':1, 'no':0}) #relevant is 1, not-relevant is 0.\n"
     ]
    },
    {
     "data": {
      "text/plain": [
       "(7991, 2)"
      ]
     },
     "execution_count": 11,
     "metadata": {},
     "output_type": "execute_result"
    }
   ],
   "source": [
    "# convert label to a numerical variable\n",
    "our_data = our_data[our_data.relevance != \"not sure\"]\n",
    "our_data.shape\n",
    "our_data['relevance'] = our_data.relevance.map({'yes':1, 'no':0}) #relevant is 1, not-relevant is 0. \n",
    "our_data = our_data[[\"text\",\"relevance\"]] #Let us take only the two columns we need.\n",
    "our_data.shape"
   ]
  },
  {
   "cell_type": "code",
   "execution_count": 27,
   "metadata": {},
   "outputs": [],
   "source": [
    "stopwords = stop_words.ENGLISH_STOP_WORDS\n",
    "def clean(doc): #doc is a string of text\n",
    "    doc = doc.replace(\"</br>\", \" \") #This text contains a lot of <br/> tags.\n",
    "    doc = \"\".join([char for char in doc if char not in string.punctuation and not char.isdigit()])\n",
    "    doc = \" \".join([token for token in doc.split() if token not in stopwords])\n",
    "    #remove punctuation and numbers\n",
    "    return doc"
   ]
  },
  {
   "cell_type": "raw",
   "metadata": {},
   "source": [
    "\n",
    "Section 3: Modeling\n",
    "Now we are ready for the modelling. We are going to use algorithms from sklearn package. We will go through the following steps:\n",
    "\n",
    "1 Split the data into training and test sets (75% train, 25% test)\n",
    "2 Extract features from the training data using CountVectorizer, which is a bag of words feature implementation. We will use the pre-processing function above in conjunction with Count Vectorizer\n",
    "3 Transform the test data into the same feature vector as the training data.\n",
    "4 Train the classifier\n",
    "5 Evaluate the classifier"
   ]
  },
  {
   "cell_type": "code",
   "execution_count": 28,
   "metadata": {},
   "outputs": [
    {
     "name": "stdout",
     "output_type": "stream",
     "text": [
      "(7991,) (7991,)\n",
      "(5993,) (5993,)\n",
      "(1998,) (1998,)\n"
     ]
    }
   ],
   "source": [
    "import sklearn\n",
    "#from sklearn.cross_validation import train_test_split\n",
    "from sklearn.model_selection import train_test_split\n",
    "\n",
    "#Step 1: train-test split\n",
    "X = our_data.text #the column text contains textual data to extract features from\n",
    "y = our_data.relevance #this is the column we are learning to predict. \n",
    "print(X.shape, y.shape)\n",
    "# split X and y into training and testing sets. By default, it splits 75% training and 25% test\n",
    "#random_state=1 for reproducibility\n",
    "X_train, X_test, y_train, y_test = train_test_split(X, y, random_state=1)\n",
    "print(X_train.shape, y_train.shape)\n",
    "print(X_test.shape, y_test.shape)"
   ]
  },
  {
   "cell_type": "code",
   "execution_count": 29,
   "metadata": {},
   "outputs": [
    {
     "name": "stdout",
     "output_type": "stream",
     "text": [
      "(5993, 49753) (1998, 49753)\n"
     ]
    }
   ],
   "source": [
    "#Step 2-3: Preprocess and Vectorize train and test data\n",
    "vect = CountVectorizer(preprocessor=clean) #instantiate a vectoriezer\n",
    "X_train_dtm = vect.fit_transform(X_train)#use it to extract features from training data\n",
    "#transform testing data (using training data's features)\n",
    "X_test_dtm = vect.transform(X_test)\n",
    "print(X_train_dtm.shape, X_test_dtm.shape)\n",
    "#i.e., the dimension of our feature vector is 49753!\n"
   ]
  },
  {
   "cell_type": "code",
   "execution_count": 17,
   "metadata": {},
   "outputs": [
    {
     "name": "stdout",
     "output_type": "stream",
     "text": [
      "CPU times: user 7.68 ms, sys: 2.18 ms, total: 9.85 ms\n",
      "Wall time: 8.65 ms\n"
     ]
    }
   ],
   "source": [
    "#Step 3: Train the classifier and predict for test data\n",
    "nb = MultinomialNB() #instantiate a Multinomial Naive Bayes model\n",
    "%time nb.fit(X_train_dtm, y_train)#train the model(timing it with an IPython \"magic command\")\n",
    "y_pred_class = nb.predict(X_test_dtm)#make class predictions for X_test_dtm"
   ]
  },
  {
   "cell_type": "code",
   "execution_count": 18,
   "metadata": {},
   "outputs": [
    {
     "name": "stdout",
     "output_type": "stream",
     "text": [
      "Accuracy:  0.7527527527527528\n",
      "ROC_AOC_Score:  0.7208538152950815\n"
     ]
    },
    {
     "data": {
      "image/png": "[encoded data removed]",
      "text/plain": [
       "<Figure size 576x432 with 2 Axes>"
      ]
     },
     "metadata": {
      "needs_background": "light"
     },
     "output_type": "display_data"
    }
   ],
   "source": [
    "#Step 4: Evaluate the classifier using various measures\n",
    "\n",
    "# Function to plot confusion matrix. \n",
    "# Ref:http://scikit-learn.org/stable/auto_examples/model_selection/plot_confusion_matrix.html\n",
    "import itertools\n",
    "from sklearn.metrics import roc_auc_score\n",
    "\n",
    "def plot_confusion_matrix(cm, classes,\n",
    "                          normalize=False,\n",
    "                          title='Confusion matrix',\n",
    "                          cmap=plt.cm.Blues):\n",
    "    \"\"\"\n",
    "    This function prints and plots the confusion matrix.\n",
    "    Normalization can be applied by setting `normalize=True`.\n",
    "    \"\"\"\n",
    "    if normalize:\n",
    "        cm = cm.astype('float') / cm.sum(axis=1)[:, np.newaxis]\n",
    "\n",
    "    plt.imshow(cm, interpolation='nearest', cmap=cmap)\n",
    "    plt.title(title)\n",
    "    plt.colorbar()\n",
    "    tick_marks = np.arange(len(classes))\n",
    "    plt.xticks(tick_marks, classes, rotation=45)\n",
    "    plt.yticks(tick_marks, classes)\n",
    "\n",
    "    fmt = '.2f' if normalize else 'd'\n",
    "    thresh = cm.max() / 2.\n",
    "    for i, j in itertools.product(range(cm.shape[0]), range(cm.shape[1])):\n",
    "        plt.text(j, i, format(cm[i, j], fmt),\n",
    "                 horizontalalignment=\"center\",\n",
    "                 color=\"white\" if cm[i, j] > thresh else \"black\")\n",
    "\n",
    "    plt.tight_layout()\n",
    "    plt.ylabel('True label',fontsize=15)\n",
    "    plt.xlabel('Predicted label',fontsize=15)\n",
    "    \n",
    "    \n",
    "#Print accuracy:\n",
    "print(\"Accuracy: \", accuracy_score(y_test, y_pred_class))\n",
    "\n",
    "    \n",
    "# print the confusion matrix\n",
    "cnf_matrix = confusion_matrix(y_test, y_pred_class)\n",
    "plt.figure(figsize=(8,6))\n",
    "plot_confusion_matrix(cnf_matrix, classes=['Not Relevant','Relevant'],normalize=True,\n",
    "                      title='Confusion matrix with all features')\n",
    "\n",
    "# calculate AUC: Area under the curve(AUC) gives idea about the model efficiency:\n",
    "#Further information: https://en.wikipedia.org/wiki/Receiver_operating_characteristic\n",
    "y_pred_prob = nb.predict_proba(X_test_dtm)[:, 1]\n",
    "print(\"ROC_AOC_Score: \", roc_auc_score(y_test, y_pred_prob))"
   ]
  },
  {
   "cell_type": "markdown",
   "metadata": {},
   "source": [
    "\n",
    "At this point, we can notice that the classifier is doing poorly with identifying relevant articles, while it is doing well with non-relevant ones. Our large feature vector could be creating a lot of noise in the form of very rarely occurring features that are not useful for learning. Let us change the count vectorizer to take a certain number of features as maximum."
   ]
  },
  {
   "cell_type": "code",
   "execution_count": 20,
   "metadata": {},
   "outputs": [
    {
     "name": "stdout",
     "output_type": "stream",
     "text": [
      "CPU times: user 3.8 ms, sys: 418 µs, total: 4.21 ms\n",
      "Wall time: 4.25 ms\n",
      "Accuracy:  0.6791791791791791\n"
     ]
    },
    {
     "data": {
      "image/png": "[encoded data removed]",
      "text/plain": [
       "<Figure size 576x432 with 2 Axes>"
      ]
     },
     "metadata": {
      "needs_background": "light"
     },
     "output_type": "display_data"
    }
   ],
   "source": [
    "vect = CountVectorizer(max_features=5000) #Step-1\n",
    "X_train_dtm = vect.fit_transform(X_train)#combined step 2 and 3\n",
    "X_test_dtm = vect.transform(X_test)\n",
    "nb = MultinomialNB() #instantiate a Multinomial Naive Bayes model\n",
    "%time nb.fit(X_train_dtm, y_train)#train the model(timing it with an IPython \"magic command\")\n",
    "y_pred_class = nb.predict(X_test_dtm)#make class predictions for X_test_dtm\n",
    "print(\"Accuracy: \", metrics.accuracy_score(y_test, y_pred_class))\n",
    "# print the confusion matrix\n",
    "cnf_matrix = confusion_matrix(y_test, y_pred_class)\n",
    "plt.figure(figsize=(8,6))\n",
    "plot_confusion_matrix(cnf_matrix, classes=['Not Relevant','Relevant'],normalize=True,\n",
    "                      title='Confusion matrix with max 5000 features')"
   ]
  },
  {
   "cell_type": "markdown",
   "metadata": {},
   "source": [
    "Clearly, the performance on relevance classification got better even though the overall accuracy fell by 10%. Let us try another classification algorithm and see if the performance changes. For this experiment, we have considered logistic regression, with class_weight attribute as \"balanced\", to address the problem of class imbalance in this dataset."
   ]
  },
  {
   "cell_type": "code",
   "execution_count": 21,
   "metadata": {},
   "outputs": [
    {
     "name": "stdout",
     "output_type": "stream",
     "text": [
      "Accuracy:  0.7442442442442443\n",
      "AUC:  0.7208538152950815\n"
     ]
    },
    {
     "name": "stderr",
     "output_type": "stream",
     "text": [
      "/Users/hritiksethi/opt/anaconda3/envs/virtual_environment_name/lib/python3.8/site-packages/sklearn/linear_model/_logistic.py:762: ConvergenceWarning: lbfgs failed to converge (status=1):\n",
      "STOP: TOTAL NO. of ITERATIONS REACHED LIMIT.\n",
      "\n",
      "Increase the number of iterations (max_iter) or scale the data as shown in:\n",
      "    https://scikit-learn.org/stable/modules/preprocessing.html\n",
      "Please also refer to the documentation for alternative solver options:\n",
      "    https://scikit-learn.org/stable/modules/linear_model.html#logistic-regression\n",
      "  n_iter_i = _check_optimize_result(\n"
     ]
    },
    {
     "data": {
      "image/png": "[encoded data removed]",
      "text/plain": [
       "<Figure size 576x432 with 2 Axes>"
      ]
     },
     "metadata": {
      "needs_background": "light"
     },
     "output_type": "display_data"
    }
   ],
   "source": [
    "from sklearn.linear_model import LogisticRegression #import\n",
    "\n",
    "logreg = LogisticRegression(class_weight=\"balanced\") #instantiate a linear svc model\n",
    "logreg.fit(X_train_dtm, y_train) #fit the model with training data\n",
    "\n",
    "#Make predictions on test data\n",
    "y_pred_class = logreg.predict(X_test_dtm)\n",
    "\n",
    "#calculate evaluation measures:\n",
    "print(\"Accuracy: \", accuracy_score(y_test, y_pred_class))\n",
    "print(\"AUC: \", roc_auc_score(y_test, y_pred_prob))\n",
    "cnf_matrix = confusion_matrix(y_test, y_pred_class)\n",
    "plt.figure(figsize=(8,6))\n",
    "plot_confusion_matrix(cnf_matrix, classes=['Not Relevant','Relevant'],normalize=True,\n",
    "                      title='Confusion matrix with normalization')"
   ]
  },
  {
   "cell_type": "code",
   "execution_count": 26,
   "metadata": {},
   "outputs": [
    {
     "name": "stdout",
     "output_type": "stream",
     "text": [
      "Accuracy:  0.5900900900900901\n",
      "AUC:  0.7208538152950815\n"
     ]
    },
    {
     "name": "stderr",
     "output_type": "stream",
     "text": [
      "/Users/hritiksethi/opt/anaconda3/envs/virtual_environment_name/lib/python3.8/site-packages/sklearn/svm/_base.py:976: ConvergenceWarning: Liblinear failed to converge, increase the number of iterations.\n",
      "  warnings.warn(\"Liblinear failed to converge, increase \"\n"
     ]
    },
    {
     "data": {
      "image/png": "[encoded data removed]",
      "text/plain": [
       "<Figure size 576x432 with 2 Axes>"
      ]
     },
     "metadata": {
      "needs_background": "light"
     },
     "output_type": "display_data"
    }
   ],
   "source": [
    "from sklearn.svm import LinearSVC\n",
    "\n",
    "vect = CountVectorizer(max_features=1000) #Step-1\n",
    "X_train_dtm = vect.fit_transform(X_train)#combined step 2 and 3\n",
    "X_test_dtm = vect.transform(X_test)\n",
    "\n",
    "classifier = LinearSVC(class_weight='balanced') #instantiate a logistic regression model\n",
    "classifier.fit(X_train_dtm, y_train) #fit the model with training data\n",
    "\n",
    "#Make predictions on test data\n",
    "y_pred_class = classifier.predict(X_test_dtm)\n",
    "\n",
    "#calculate evaluation measures:\n",
    "print(\"Accuracy: \", accuracy_score(y_test, y_pred_class))\n",
    "print(\"AUC: \", roc_auc_score(y_test, y_pred_prob))\n",
    "cnf_matrix = confusion_matrix(y_test, y_pred_class)\n",
    "plt.figure(figsize=(8,6))\n",
    "plot_confusion_matrix(cnf_matrix, classes=['Not Relevant','Relevant'],normalize=True,\n",
    "                      title='Confusion matrix with normalization')"
   ]
  },
  {
   "cell_type": "markdown",
   "metadata": {},
   "source": [
    "\n",
    "So, how do we choose whats the best? If we look at overall accuracy alone, we should be choosing the very first classifier in this notebook. However, that is also doing poorly with identifying \"relevant\" articles. If we choose purely based on how good it is doing with \"relevant\" category, we should choose the second one we built. If we choose purely based on how good it is doing with \"irrelevant\" category, surely, nothing beats not building any classifier and just calling everything irrelevant! So, what to choose as the best among these depends on what we are looking for in our usecase!"
   ]
  },
  {
   "cell_type": "code",
   "execution_count": null,
   "metadata": {},
   "outputs": [],
   "source": []
  }
 ],
 "metadata": {
  "kernelspec": {
   "display_name": "Python 3.8.3 64-bit ('virtual_environment_name': conda)",
   "language": "python",
   "name": "python38364bitvirtualenvironmentnamecondae08ef5538f8b47908b010a9261607790"
  },
  "language_info": {
   "codemirror_mode": {
    "name": "ipython",
    "version": 3
   },
   "file_extension": ".py",
   "mimetype": "text/x-python",
   "name": "python",
   "nbconvert_exporter": "python",
   "pygments_lexer": "ipython3",
   "version": "3.8.3"
  }
 },
 "nbformat": 4,
 "nbformat_minor": 2
}
